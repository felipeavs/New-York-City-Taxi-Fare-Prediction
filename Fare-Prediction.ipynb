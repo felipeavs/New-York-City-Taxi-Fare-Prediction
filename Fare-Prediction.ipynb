{
 "cells": [
  {
   "cell_type": "markdown",
   "id": "reverse-structure",
   "metadata": {
    "papermill": {
     "duration": 0.031643,
     "end_time": "2021-04-14T01:00:20.279480",
     "exception": false,
     "start_time": "2021-04-14T01:00:20.247837",
     "status": "completed"
    },
    "tags": []
   },
   "source": [
    "# New York City Taxi Fare Prediction"
   ]
  },
  {
   "cell_type": "code",
   "execution_count": 1,
   "id": "straight-queue",
   "metadata": {
    "execution": {
     "iopub.execute_input": "2021-04-14T01:00:20.346174Z",
     "iopub.status.busy": "2021-04-14T01:00:20.344993Z",
     "iopub.status.idle": "2021-04-14T01:00:22.065407Z",
     "shell.execute_reply": "2021-04-14T01:00:22.065967Z"
    },
    "papermill": {
     "duration": 1.756266,
     "end_time": "2021-04-14T01:00:22.066298",
     "exception": false,
     "start_time": "2021-04-14T01:00:20.310032",
     "status": "completed"
    },
    "tags": []
   },
   "outputs": [],
   "source": [
    "import numpy as np \n",
    "import pandas as pd\n",
    "import matplotlib.pyplot as plt\n",
    "import seaborn as sns\n",
    "\n",
    "from sklearn.ensemble import RandomForestRegressor\n",
    "from sklearn.linear_model import LinearRegression\n",
    "from sklearn.metrics import mean_squared_error\n",
    "from sklearn.neighbors import KNeighborsRegressor\n",
    "\n",
    "# Carrega 2.500.000 linhas do dataset \n",
    "train_data = pd.read_csv('/kaggle/input/new-york-city-taxi-fare-prediction/train.csv', nrows = 25000)\n",
    "test_data = pd.read_csv('/kaggle/input/new-york-city-taxi-fare-prediction/test.csv')\n"
   ]
  },
  {
   "cell_type": "markdown",
   "id": "sweet-cover",
   "metadata": {
    "papermill": {
     "duration": 0.031067,
     "end_time": "2021-04-14T01:00:22.129204",
     "exception": false,
     "start_time": "2021-04-14T01:00:22.098137",
     "status": "completed"
    },
    "tags": []
   },
   "source": [
    "## Definição do Desafio\n",
    "A competição chamada “New York City Taxi Fare” foi realizada em parceria com o Google Cloud e a Coursera onde o objetivo é prever o valor de uma viagem de táxi dados os locais de origem e destino.\n",
    "\n",
    "O conjunto de dados para treino consistem em aproximadamente 55 milhões de linhas com\n",
    "valores de viagens em NYC.\n",
    "\n",
    "A base de dados é composta pelos seguintes atributos:\n",
    "* **key** - String única que identifica cada linha. É dada a partir da data e hora de embarque mais um inteiro único.\n",
    "* **pickup_datetime** - data e horário de quando a viagem de táxi foi iniciada.\n",
    "* **pickup_longitude** - float que representa a longitude de onde a viagem de táxi foi iniciada.\n",
    "* **pickup_latitude** - float que representa a latitude de onde a viagem de táxi foi iniciada.\n",
    "* **dropoff_longitude** - float que representa a longitude de onde a viagem de táxi foi terminada.\n",
    "* **dropoff_latitude** - float que representa a latitude de onde a viagem de táxi foi terminada.\n",
    "* **passenger_count** - inteiro que indica a quantidade de passageiros na viagem.\n",
    "\n",
    "\n",
    "Dados que precisamos prever (target)\n",
    "* **fare_amount** - valor flutuante em dólares do custo da corrida de táxi. Este valor está apenas no conjunto de treinamento; isso é o que você está prevendo no conjunto de teste e é exigido em seu CSV de envio.\n"
   ]
  },
  {
   "cell_type": "markdown",
   "id": "automotive-fancy",
   "metadata": {
    "papermill": {
     "duration": 0.031543,
     "end_time": "2021-04-14T01:00:22.192782",
     "exception": false,
     "start_time": "2021-04-14T01:00:22.161239",
     "status": "completed"
    },
    "tags": []
   },
   "source": [
    "## Pré-processamento\n",
    "Como pré-processamento, fizemos a limpeza e redução dos dados, excluindo linhas que tenham informações de local (dropoff ou pickup) nulas, valores negativos, quantidades de passageiros inválidas e outliers.\n",
    "\n",
    "### Limpeza e redução\n"
   ]
  },
  {
   "cell_type": "code",
   "execution_count": 2,
   "id": "grateful-nation",
   "metadata": {
    "execution": {
     "iopub.execute_input": "2021-04-14T01:00:22.265522Z",
     "iopub.status.busy": "2021-04-14T01:00:22.264799Z",
     "iopub.status.idle": "2021-04-14T01:00:22.296208Z",
     "shell.execute_reply": "2021-04-14T01:00:22.295637Z"
    },
    "papermill": {
     "duration": 0.072708,
     "end_time": "2021-04-14T01:00:22.296357",
     "exception": false,
     "start_time": "2021-04-14T01:00:22.223649",
     "status": "completed"
    },
    "tags": []
   },
   "outputs": [
    {
     "name": "stdout",
     "output_type": "stream",
     "text": [
      "<class 'pandas.core.frame.DataFrame'>\n",
      "RangeIndex: 25000 entries, 0 to 24999\n",
      "Data columns (total 8 columns):\n",
      " #   Column             Non-Null Count  Dtype  \n",
      "---  ------             --------------  -----  \n",
      " 0   key                25000 non-null  object \n",
      " 1   fare_amount        25000 non-null  float64\n",
      " 2   pickup_datetime    25000 non-null  object \n",
      " 3   pickup_longitude   25000 non-null  float64\n",
      " 4   pickup_latitude    25000 non-null  float64\n",
      " 5   dropoff_longitude  25000 non-null  float64\n",
      " 6   dropoff_latitude   25000 non-null  float64\n",
      " 7   passenger_count    25000 non-null  int64  \n",
      "dtypes: float64(5), int64(1), object(2)\n",
      "memory usage: 1.5+ MB\n"
     ]
    }
   ],
   "source": [
    "# checando os tipos\n",
    "train_data.info()"
   ]
  },
  {
   "cell_type": "code",
   "execution_count": 3,
   "id": "historical-lender",
   "metadata": {
    "execution": {
     "iopub.execute_input": "2021-04-14T01:00:22.371267Z",
     "iopub.status.busy": "2021-04-14T01:00:22.370199Z",
     "iopub.status.idle": "2021-04-14T01:00:22.379439Z",
     "shell.execute_reply": "2021-04-14T01:00:22.379937Z"
    },
    "papermill": {
     "duration": 0.052062,
     "end_time": "2021-04-14T01:00:22.380118",
     "exception": false,
     "start_time": "2021-04-14T01:00:22.328056",
     "status": "completed"
    },
    "tags": []
   },
   "outputs": [
    {
     "data": {
      "text/plain": [
       "key                  0\n",
       "fare_amount          0\n",
       "pickup_datetime      0\n",
       "pickup_longitude     0\n",
       "pickup_latitude      0\n",
       "dropoff_longitude    0\n",
       "dropoff_latitude     0\n",
       "passenger_count      0\n",
       "dtype: int64"
      ]
     },
     "execution_count": 3,
     "metadata": {},
     "output_type": "execute_result"
    }
   ],
   "source": [
    "# checando a existência de dados nulos\n",
    "train_data.isna().sum()"
   ]
  },
  {
   "cell_type": "code",
   "execution_count": 4,
   "id": "invalid-elite",
   "metadata": {
    "execution": {
     "iopub.execute_input": "2021-04-14T01:00:22.446905Z",
     "iopub.status.busy": "2021-04-14T01:00:22.446259Z",
     "iopub.status.idle": "2021-04-14T01:00:22.484992Z",
     "shell.execute_reply": "2021-04-14T01:00:22.485534Z"
    },
    "papermill": {
     "duration": 0.073587,
     "end_time": "2021-04-14T01:00:22.485714",
     "exception": false,
     "start_time": "2021-04-14T01:00:22.412127",
     "status": "completed"
    },
    "tags": []
   },
   "outputs": [
    {
     "data": {
      "text/plain": [
       "key                  0\n",
       "fare_amount          0\n",
       "pickup_datetime      0\n",
       "pickup_longitude     0\n",
       "pickup_latitude      0\n",
       "dropoff_longitude    0\n",
       "dropoff_latitude     0\n",
       "passenger_count      0\n",
       "dtype: int64"
      ]
     },
     "execution_count": 4,
     "metadata": {},
     "output_type": "execute_result"
    }
   ],
   "source": [
    "# excluindo linhas com coordenadas nulas\n",
    "train_data.dropna(axis=0, subset=['dropoff_longitude', 'dropoff_latitude'], inplace=True)\n",
    "train_data.isna().sum()"
   ]
  },
  {
   "cell_type": "code",
   "execution_count": 5,
   "id": "alike-banner",
   "metadata": {
    "execution": {
     "iopub.execute_input": "2021-04-14T01:00:22.559700Z",
     "iopub.status.busy": "2021-04-14T01:00:22.558762Z",
     "iopub.status.idle": "2021-04-14T01:00:22.566472Z",
     "shell.execute_reply": "2021-04-14T01:00:22.565895Z"
    },
    "papermill": {
     "duration": 0.048021,
     "end_time": "2021-04-14T01:00:22.566617",
     "exception": false,
     "start_time": "2021-04-14T01:00:22.518596",
     "status": "completed"
    },
    "tags": []
   },
   "outputs": [
    {
     "name": "stdout",
     "output_type": "stream",
     "text": [
      "Corridas com custo negativo ou 0: 5\n",
      "Corridas com mais de 6 passageiros: 0\n",
      "Corridas com passageiros negativos ou 0: 93\n"
     ]
    }
   ],
   "source": [
    "print(\"Corridas com custo negativo ou 0: \" + str(len(train_data[train_data['fare_amount']<1])))\n",
    "print(\"Corridas com mais de 6 passageiros: \" + str(len(train_data[train_data['passenger_count']>6])))\n",
    "print(\"Corridas com passageiros negativos ou 0: \" + str(len(train_data[train_data['passenger_count']<1])))"
   ]
  },
  {
   "cell_type": "code",
   "execution_count": 6,
   "id": "fossil-nation",
   "metadata": {
    "execution": {
     "iopub.execute_input": "2021-04-14T01:00:22.637934Z",
     "iopub.status.busy": "2021-04-14T01:00:22.637097Z",
     "iopub.status.idle": "2021-04-14T01:00:22.646929Z",
     "shell.execute_reply": "2021-04-14T01:00:22.647441Z"
    },
    "papermill": {
     "duration": 0.04823,
     "end_time": "2021-04-14T01:00:22.647632",
     "exception": false,
     "start_time": "2021-04-14T01:00:22.599402",
     "status": "completed"
    },
    "tags": []
   },
   "outputs": [
    {
     "data": {
      "text/plain": [
       "(24402, 8)"
      ]
     },
     "execution_count": 6,
     "metadata": {},
     "output_type": "execute_result"
    }
   ],
   "source": [
    "# removendo corridas com custo negativo ou zero, mais de 6 passageiros, passageiros negativos ou 0\n",
    "train_data = train_data[(train_data.fare_amount > 0) & (train_data.passenger_count < 6) & (train_data.passenger_count > 0)]\n",
    "train_data.shape"
   ]
  },
  {
   "cell_type": "code",
   "execution_count": 7,
   "id": "extended-metro",
   "metadata": {
    "execution": {
     "iopub.execute_input": "2021-04-14T01:00:22.724349Z",
     "iopub.status.busy": "2021-04-14T01:00:22.723298Z",
     "iopub.status.idle": "2021-04-14T01:00:22.784886Z",
     "shell.execute_reply": "2021-04-14T01:00:22.786273Z"
    },
    "papermill": {
     "duration": 0.105414,
     "end_time": "2021-04-14T01:00:22.786504",
     "exception": false,
     "start_time": "2021-04-14T01:00:22.681090",
     "status": "completed"
    },
    "tags": []
   },
   "outputs": [
    {
     "data": {
      "text/html": [
       "<div>\n",
       "<style scoped>\n",
       "    .dataframe tbody tr th:only-of-type {\n",
       "        vertical-align: middle;\n",
       "    }\n",
       "\n",
       "    .dataframe tbody tr th {\n",
       "        vertical-align: top;\n",
       "    }\n",
       "\n",
       "    .dataframe thead th {\n",
       "        text-align: right;\n",
       "    }\n",
       "</style>\n",
       "<table border=\"1\" class=\"dataframe\">\n",
       "  <thead>\n",
       "    <tr style=\"text-align: right;\">\n",
       "      <th></th>\n",
       "      <th>fare_amount</th>\n",
       "      <th>pickup_longitude</th>\n",
       "      <th>pickup_latitude</th>\n",
       "      <th>dropoff_longitude</th>\n",
       "      <th>dropoff_latitude</th>\n",
       "      <th>passenger_count</th>\n",
       "    </tr>\n",
       "  </thead>\n",
       "  <tbody>\n",
       "    <tr>\n",
       "      <th>count</th>\n",
       "      <td>24402.00</td>\n",
       "      <td>24402.00</td>\n",
       "      <td>24402.00</td>\n",
       "      <td>24402.00</td>\n",
       "      <td>24402.00</td>\n",
       "      <td>24402.00</td>\n",
       "    </tr>\n",
       "    <tr>\n",
       "      <th>mean</th>\n",
       "      <td>11.32</td>\n",
       "      <td>-72.51</td>\n",
       "      <td>39.94</td>\n",
       "      <td>-72.51</td>\n",
       "      <td>39.92</td>\n",
       "      <td>1.58</td>\n",
       "    </tr>\n",
       "    <tr>\n",
       "      <th>std</th>\n",
       "      <td>9.55</td>\n",
       "      <td>10.42</td>\n",
       "      <td>6.50</td>\n",
       "      <td>10.41</td>\n",
       "      <td>6.07</td>\n",
       "      <td>1.14</td>\n",
       "    </tr>\n",
       "    <tr>\n",
       "      <th>min</th>\n",
       "      <td>0.01</td>\n",
       "      <td>-75.41</td>\n",
       "      <td>-74.01</td>\n",
       "      <td>-84.65</td>\n",
       "      <td>-73.99</td>\n",
       "      <td>1.00</td>\n",
       "    </tr>\n",
       "    <tr>\n",
       "      <th>25%</th>\n",
       "      <td>6.00</td>\n",
       "      <td>-73.99</td>\n",
       "      <td>40.73</td>\n",
       "      <td>-73.99</td>\n",
       "      <td>40.73</td>\n",
       "      <td>1.00</td>\n",
       "    </tr>\n",
       "    <tr>\n",
       "      <th>50%</th>\n",
       "      <td>8.50</td>\n",
       "      <td>-73.98</td>\n",
       "      <td>40.75</td>\n",
       "      <td>-73.98</td>\n",
       "      <td>40.75</td>\n",
       "      <td>1.00</td>\n",
       "    </tr>\n",
       "    <tr>\n",
       "      <th>75%</th>\n",
       "      <td>12.50</td>\n",
       "      <td>-73.97</td>\n",
       "      <td>40.77</td>\n",
       "      <td>-73.96</td>\n",
       "      <td>40.77</td>\n",
       "      <td>2.00</td>\n",
       "    </tr>\n",
       "    <tr>\n",
       "      <th>max</th>\n",
       "      <td>180.00</td>\n",
       "      <td>40.77</td>\n",
       "      <td>401.08</td>\n",
       "      <td>40.80</td>\n",
       "      <td>41.37</td>\n",
       "      <td>5.00</td>\n",
       "    </tr>\n",
       "  </tbody>\n",
       "</table>\n",
       "</div>"
      ],
      "text/plain": [
       "       fare_amount  pickup_longitude  pickup_latitude  dropoff_longitude  \\\n",
       "count     24402.00          24402.00         24402.00           24402.00   \n",
       "mean         11.32            -72.51            39.94             -72.51   \n",
       "std           9.55             10.42             6.50              10.41   \n",
       "min           0.01            -75.41           -74.01             -84.65   \n",
       "25%           6.00            -73.99            40.73             -73.99   \n",
       "50%           8.50            -73.98            40.75             -73.98   \n",
       "75%          12.50            -73.97            40.77             -73.96   \n",
       "max         180.00             40.77           401.08              40.80   \n",
       "\n",
       "       dropoff_latitude  passenger_count  \n",
       "count          24402.00         24402.00  \n",
       "mean              39.92             1.58  \n",
       "std                6.07             1.14  \n",
       "min              -73.99             1.00  \n",
       "25%               40.73             1.00  \n",
       "50%               40.75             1.00  \n",
       "75%               40.77             2.00  \n",
       "max               41.37             5.00  "
      ]
     },
     "execution_count": 7,
     "metadata": {},
     "output_type": "execute_result"
    }
   ],
   "source": [
    "train_data.describe().round(2)"
   ]
  },
  {
   "cell_type": "markdown",
   "id": "narrow-spice",
   "metadata": {
    "papermill": {
     "duration": 0.041452,
     "end_time": "2021-04-14T01:00:22.880554",
     "exception": false,
     "start_time": "2021-04-14T01:00:22.839102",
     "status": "completed"
    },
    "tags": []
   },
   "source": [
    "### Outliers\n",
    "Como consta no gráfico abaixo, observamos outliers que vamos retirar limitando o valor da corrida pra maior que 2.50 e menor que 600."
   ]
  },
  {
   "cell_type": "code",
   "execution_count": 8,
   "id": "unsigned-cincinnati",
   "metadata": {
    "execution": {
     "iopub.execute_input": "2021-04-14T01:00:22.953197Z",
     "iopub.status.busy": "2021-04-14T01:00:22.952525Z",
     "iopub.status.idle": "2021-04-14T01:00:23.267557Z",
     "shell.execute_reply": "2021-04-14T01:00:23.268122Z"
    },
    "papermill": {
     "duration": 0.352866,
     "end_time": "2021-04-14T01:00:23.268297",
     "exception": false,
     "start_time": "2021-04-14T01:00:22.915431",
     "status": "completed"
    },
    "tags": []
   },
   "outputs": [
    {
     "data": {
      "image/png": "[encoded data removed]",
      "text/plain": [
       "<Figure size 3600x576 with 1 Axes>"
      ]
     },
     "metadata": {
      "needs_background": "light"
     },
     "output_type": "display_data"
    }
   ],
   "source": [
    "plt.figure(figsize=(50,8))\n",
    "sns.set(font_scale=3)\n",
    "sns.set_palette('pastel')\n",
    "ax = sns.boxplot(x=train_data['fare_amount'])"
   ]
  },
  {
   "cell_type": "code",
   "execution_count": 9,
   "id": "scientific-ranking",
   "metadata": {
    "execution": {
     "iopub.execute_input": "2021-04-14T01:00:23.344906Z",
     "iopub.status.busy": "2021-04-14T01:00:23.344246Z",
     "iopub.status.idle": "2021-04-14T01:00:23.354150Z",
     "shell.execute_reply": "2021-04-14T01:00:23.354660Z"
    },
    "papermill": {
     "duration": 0.049701,
     "end_time": "2021-04-14T01:00:23.354833",
     "exception": false,
     "start_time": "2021-04-14T01:00:23.305132",
     "status": "completed"
    },
    "tags": []
   },
   "outputs": [
    {
     "data": {
      "text/plain": [
       "(24302, 8)"
      ]
     },
     "execution_count": 9,
     "metadata": {},
     "output_type": "execute_result"
    }
   ],
   "source": [
    "train_data = train_data[(train_data.fare_amount > 2.50) & (train_data.fare_amount < 600) ]\n",
    "train_data.shape"
   ]
  },
  {
   "cell_type": "code",
   "execution_count": 10,
   "id": "dietary-heather",
   "metadata": {
    "execution": {
     "iopub.execute_input": "2021-04-14T01:00:23.429107Z",
     "iopub.status.busy": "2021-04-14T01:00:23.428485Z",
     "iopub.status.idle": "2021-04-14T01:00:23.710125Z",
     "shell.execute_reply": "2021-04-14T01:00:23.710645Z"
    },
    "papermill": {
     "duration": 0.320533,
     "end_time": "2021-04-14T01:00:23.710818",
     "exception": false,
     "start_time": "2021-04-14T01:00:23.390285",
     "status": "completed"
    },
    "tags": []
   },
   "outputs": [
    {
     "data": {
      "image/png": "[encoded data removed]",
      "text/plain": [
       "<Figure size 3600x576 with 1 Axes>"
      ]
     },
     "metadata": {},
     "output_type": "display_data"
    }
   ],
   "source": [
    "plt.figure(figsize=(50,8))\n",
    "sns.set(font_scale=3)\n",
    "sns.set_palette('pastel')\n",
    "ax = sns.boxplot(x=train_data['fare_amount'])"
   ]
  },
  {
   "cell_type": "markdown",
   "id": "given-inquiry",
   "metadata": {
    "papermill": {
     "duration": 0.036533,
     "end_time": "2021-04-14T01:00:23.784336",
     "exception": false,
     "start_time": "2021-04-14T01:00:23.747803",
     "status": "completed"
    },
    "tags": []
   },
   "source": [
    "Abaixo removemos corridas onde o ponto de partida ou de chegada não estão em NY, sendo que a cidade está com longitude entre -75 e -72 e latitude entre 40 e 42."
   ]
  },
  {
   "cell_type": "code",
   "execution_count": 11,
   "id": "answering-block",
   "metadata": {
    "execution": {
     "iopub.execute_input": "2021-04-14T01:00:23.861921Z",
     "iopub.status.busy": "2021-04-14T01:00:23.861263Z",
     "iopub.status.idle": "2021-04-14T01:00:23.877770Z",
     "shell.execute_reply": "2021-04-14T01:00:23.877158Z"
    },
    "papermill": {
     "duration": 0.056391,
     "end_time": "2021-04-14T01:00:23.877926",
     "exception": false,
     "start_time": "2021-04-14T01:00:23.821535",
     "status": "completed"
    },
    "tags": []
   },
   "outputs": [
    {
     "data": {
      "text/plain": [
       "(23812, 8)"
      ]
     },
     "execution_count": 11,
     "metadata": {},
     "output_type": "execute_result"
    }
   ],
   "source": [
    "train_data = train_data[(train_data.pickup_longitude > -75) & (train_data.pickup_longitude < -72) &\n",
    "                        (train_data.pickup_latitude > 40) & (train_data.pickup_latitude < 42) &\n",
    "                        (train_data.dropoff_longitude > -75) & (train_data.dropoff_longitude < -72) &\n",
    "                        (train_data.dropoff_latitude > 40) & (train_data.dropoff_latitude < 42) ]\n",
    "\n",
    "# quantidade de linhas restantes após limpeza\n",
    "train_data.shape"
   ]
  },
  {
   "cell_type": "code",
   "execution_count": 12,
   "id": "removable-amsterdam",
   "metadata": {
    "execution": {
     "iopub.execute_input": "2021-04-14T01:00:23.984535Z",
     "iopub.status.busy": "2021-04-14T01:00:23.962690Z",
     "iopub.status.idle": "2021-04-14T01:00:24.244561Z",
     "shell.execute_reply": "2021-04-14T01:00:24.243781Z"
    },
    "papermill": {
     "duration": 0.327787,
     "end_time": "2021-04-14T01:00:24.244717",
     "exception": false,
     "start_time": "2021-04-14T01:00:23.916930",
     "status": "completed"
    },
    "tags": []
   },
   "outputs": [
    {
     "data": {
      "image/png": "[encoded data removed]",
      "text/plain": [
       "<Figure size 3600x576 with 1 Axes>"
      ]
     },
     "metadata": {},
     "output_type": "display_data"
    }
   ],
   "source": [
    "plt.figure(figsize=(50,8))\n",
    "sns.set(font_scale=3)\n",
    "sns.set_palette('pastel')\n",
    "ax = sns.boxplot(x=train_data['fare_amount'])"
   ]
  },
  {
   "cell_type": "code",
   "execution_count": 13,
   "id": "varied-geometry",
   "metadata": {
    "execution": {
     "iopub.execute_input": "2021-04-14T01:00:24.336367Z",
     "iopub.status.busy": "2021-04-14T01:00:24.334884Z",
     "iopub.status.idle": "2021-04-14T01:00:24.340475Z",
     "shell.execute_reply": "2021-04-14T01:00:24.339801Z"
    },
    "papermill": {
     "duration": 0.055684,
     "end_time": "2021-04-14T01:00:24.340632",
     "exception": false,
     "start_time": "2021-04-14T01:00:24.284948",
     "status": "completed"
    },
    "tags": []
   },
   "outputs": [
    {
     "data": {
      "text/plain": [
       "(9914, 7)"
      ]
     },
     "execution_count": 13,
     "metadata": {},
     "output_type": "execute_result"
    }
   ],
   "source": [
    "test_data.shape"
   ]
  },
  {
   "cell_type": "markdown",
   "id": "bottom-decimal",
   "metadata": {
    "papermill": {
     "duration": 0.039423,
     "end_time": "2021-04-14T01:00:24.419573",
     "exception": false,
     "start_time": "2021-04-14T01:00:24.380150",
     "status": "completed"
    },
    "tags": []
   },
   "source": [
    "### Discretização\n",
    "\n",
    "Para facilitar a análise dos dados, criamos algumas novas colunas com categorias novas, como:\n",
    "* horário do dia (madrugada, manhã, tarde e noite)\n",
    "* dia da semana (dia de semana, final de semana)"
   ]
  },
  {
   "cell_type": "code",
   "execution_count": 14,
   "id": "dressed-frost",
   "metadata": {
    "execution": {
     "iopub.execute_input": "2021-04-14T01:00:24.518198Z",
     "iopub.status.busy": "2021-04-14T01:00:24.512922Z",
     "iopub.status.idle": "2021-04-14T01:00:28.543205Z",
     "shell.execute_reply": "2021-04-14T01:00:28.542513Z"
    },
    "papermill": {
     "duration": 4.084086,
     "end_time": "2021-04-14T01:00:28.543385",
     "exception": false,
     "start_time": "2021-04-14T01:00:24.459299",
     "status": "completed"
    },
    "tags": []
   },
   "outputs": [],
   "source": [
    "# função auxiliar para agrupar o horário do dia\n",
    "def get_time_of_day(hour):\n",
    "    if hour <= 5:\n",
    "        return 'early_morning'\n",
    "    if hour <= 12:\n",
    "        return 'morning'\n",
    "    if hour <= 18:\n",
    "        return 'afternoon'\n",
    "    if hour <= 23:\n",
    "        return 'night'\n",
    "    \n",
    "# função auxiliar para agrupar o dia da semana\n",
    "def get_weekday_type(weekday):\n",
    "    if weekday in ['Saturday', 'Sunday']:\n",
    "        return 'weekend'\n",
    "    else:\n",
    "        return 'workday'\n",
    "\n",
    "    \n",
    "# criando coluna com o horário e o dia da semana e ano\n",
    "date_time_pickup = pd.to_datetime(train_data['pickup_datetime']).dt\n",
    "train_data['time_of_day'] = date_time_pickup.hour.apply(get_time_of_day)\n",
    "train_data['weekday'] = date_time_pickup.strftime(\"%A\").apply(get_weekday_type)\n",
    "train_data['year'] = date_time_pickup.year\n",
    "\n",
    "date_time_pickup = pd.to_datetime(test_data['pickup_datetime']).dt\n",
    "test_data['time_of_day'] = date_time_pickup.hour.apply(get_time_of_day)\n",
    "test_data['weekday'] = date_time_pickup.strftime(\"%A\").apply(get_weekday_type)\n",
    "test_data['year'] = date_time_pickup.year"
   ]
  },
  {
   "cell_type": "code",
   "execution_count": 15,
   "id": "fiscal-narrow",
   "metadata": {
    "execution": {
     "iopub.execute_input": "2021-04-14T01:00:28.628246Z",
     "iopub.status.busy": "2021-04-14T01:00:28.627488Z",
     "iopub.status.idle": "2021-04-14T01:00:28.632406Z",
     "shell.execute_reply": "2021-04-14T01:00:28.631818Z"
    },
    "papermill": {
     "duration": 0.049349,
     "end_time": "2021-04-14T01:00:28.632555",
     "exception": false,
     "start_time": "2021-04-14T01:00:28.583206",
     "status": "completed"
    },
    "tags": []
   },
   "outputs": [
    {
     "data": {
      "text/plain": [
       "(9914, 10)"
      ]
     },
     "execution_count": 15,
     "metadata": {},
     "output_type": "execute_result"
    }
   ],
   "source": [
    "test_data.shape"
   ]
  },
  {
   "cell_type": "markdown",
   "id": "union-effort",
   "metadata": {
    "papermill": {
     "duration": 0.039798,
     "end_time": "2021-04-14T01:00:28.712749",
     "exception": false,
     "start_time": "2021-04-14T01:00:28.672951",
     "status": "completed"
    },
    "tags": []
   },
   "source": [
    "### Transformação\n",
    "Para facilitar a análise, adicionamos algumas colunas extras com informações relevantes. Foram elas:\n",
    "* **manhattan_dist**: distância de manhattan entre o ponto de partida e chegada\n",
    "* **km_dist**: distância em km entre o ponto de partida e chegada\n",
    "* **fare_by_km**: valor pago por km naquela corrida"
   ]
  },
  {
   "cell_type": "code",
   "execution_count": 16,
   "id": "effective-dietary",
   "metadata": {
    "execution": {
     "iopub.execute_input": "2021-04-14T01:00:28.806702Z",
     "iopub.status.busy": "2021-04-14T01:00:28.805857Z",
     "iopub.status.idle": "2021-04-14T01:00:28.840545Z",
     "shell.execute_reply": "2021-04-14T01:00:28.839953Z"
    },
    "papermill": {
     "duration": 0.086738,
     "end_time": "2021-04-14T01:00:28.840719",
     "exception": false,
     "start_time": "2021-04-14T01:00:28.753981",
     "status": "completed"
    },
    "tags": []
   },
   "outputs": [],
   "source": [
    "# função auxiliar para calcular a distância de manhattan\n",
    "def get_manhattan_dist(pickup_long, pickup_lat, dropoff_long, dropoff_lat):\n",
    "    return ((dropoff_long - pickup_long).abs() + (dropoff_lat - pickup_lat).abs())\n",
    "\n",
    "def get_km_dist(pickup_lon, pickup_lat, dropoff_lon, dropoff_lat):\n",
    "    pickup_lon, pickup_lat, dropoff_lon, dropoff_lat = map(np.radians, [pickup_lon, pickup_lat, dropoff_lon, dropoff_lat])\n",
    "    dist_lon = dropoff_lon - pickup_lon\n",
    "    dist_lat = dropoff_lat - pickup_lat\n",
    "    a = np.sin(dist_lat/2.0)**2 + np.cos(pickup_lat) * np.cos(dropoff_lat) * np.sin(dist_lon/2.0)**2\n",
    "    c = 2*np.arcsin(np.sqrt(a))\n",
    "    km = 6367*c\n",
    "    return km\n",
    "\n",
    "# criando coluna com a distância\n",
    "train_data['manhattan_dist'] = get_manhattan_dist(train_data.pickup_longitude, train_data.pickup_latitude, train_data.dropoff_longitude, train_data.dropoff_latitude)\n",
    "test_data['manhattan_dist'] = get_manhattan_dist(test_data.pickup_longitude, test_data.pickup_latitude, test_data.dropoff_longitude, test_data.dropoff_latitude)\n",
    "train_data['km_dist'] = get_km_dist(train_data.pickup_longitude, train_data.pickup_latitude, train_data.dropoff_longitude, train_data.dropoff_latitude).astype(np.float32)\n",
    "test_data['km_dist'] = get_km_dist(test_data.pickup_longitude, test_data.pickup_latitude, test_data.dropoff_longitude, test_data.dropoff_latitude).astype(np.float32)\n",
    "train_data = train_data[train_data.km_dist > 1]\n",
    "#test_data = test_data[test_data.km_dist > 1]\n",
    "\n",
    "# Cirando uma coluna valor por kilometro \n",
    "train_data['fare_by_km'] = (train_data['fare_amount']/train_data['km_dist']).round(2)\n"
   ]
  },
  {
   "cell_type": "code",
   "execution_count": 17,
   "id": "coupled-ceramic",
   "metadata": {
    "execution": {
     "iopub.execute_input": "2021-04-14T01:00:28.929078Z",
     "iopub.status.busy": "2021-04-14T01:00:28.928106Z",
     "iopub.status.idle": "2021-04-14T01:00:28.932337Z",
     "shell.execute_reply": "2021-04-14T01:00:28.932781Z"
    },
    "papermill": {
     "duration": 0.051263,
     "end_time": "2021-04-14T01:00:28.932972",
     "exception": false,
     "start_time": "2021-04-14T01:00:28.881709",
     "status": "completed"
    },
    "tags": []
   },
   "outputs": [
    {
     "data": {
      "text/plain": [
       "(9914, 12)"
      ]
     },
     "execution_count": 17,
     "metadata": {},
     "output_type": "execute_result"
    }
   ],
   "source": [
    "test_data.shape"
   ]
  },
  {
   "cell_type": "markdown",
   "id": "comic-thermal",
   "metadata": {
    "papermill": {
     "duration": 0.040459,
     "end_time": "2021-04-14T01:00:29.013798",
     "exception": false,
     "start_time": "2021-04-14T01:00:28.973339",
     "status": "completed"
    },
    "tags": []
   },
   "source": [
    "## Análise Descritiva\n",
    "\n",
    "Com os dados pré-processados, fizemos uma análise levando em consideração o valor da corrida por km."
   ]
  },
  {
   "cell_type": "code",
   "execution_count": 18,
   "id": "organic-fisher",
   "metadata": {
    "execution": {
     "iopub.execute_input": "2021-04-14T01:00:29.106372Z",
     "iopub.status.busy": "2021-04-14T01:00:29.105506Z",
     "iopub.status.idle": "2021-04-14T01:00:29.593439Z",
     "shell.execute_reply": "2021-04-14T01:00:29.592916Z"
    },
    "papermill": {
     "duration": 0.538896,
     "end_time": "2021-04-14T01:00:29.593582",
     "exception": false,
     "start_time": "2021-04-14T01:00:29.054686",
     "status": "completed"
    },
    "tags": []
   },
   "outputs": [
    {
     "data": {
      "text/plain": [
       "<AxesSubplot:>"
      ]
     },
     "execution_count": 18,
     "metadata": {},
     "output_type": "execute_result"
    },
    {
     "data": {
      "image/png": "[encoded data removed]",
      "text/plain": [
       "<Figure size 792x648 with 2 Axes>"
      ]
     },
     "metadata": {},
     "output_type": "display_data"
    }
   ],
   "source": [
    "sns.set_theme(style=\"white\")\n",
    "sns.set_palette('pastel')\n",
    "\n",
    "\n",
    "corr = train_data.corr()\n",
    "mask = np.triu(np.ones_like(corr, dtype=bool))\n",
    "f, ax = plt.subplots(figsize=(11, 9))\n",
    "cmap = sns.diverging_palette(230, 20, as_cmap=True)\n",
    "sns.heatmap(corr, mask=mask, cmap=cmap, vmax=1, vmin=0, center=0,\n",
    "            square=True, linewidths=.5, cbar_kws={\"shrink\": .5})"
   ]
  },
  {
   "cell_type": "markdown",
   "id": "cross-appliance",
   "metadata": {
    "papermill": {
     "duration": 0.041989,
     "end_time": "2021-04-14T01:00:29.677964",
     "exception": false,
     "start_time": "2021-04-14T01:00:29.635975",
     "status": "completed"
    },
    "tags": []
   },
   "source": [
    "### Média do valor por km para cada ano de viagem\n",
    "\n",
    "Como mostrado no gráfico abaixo, podemos perceber que o preço do km aumentou um pouco com o passar dos anos."
   ]
  },
  {
   "cell_type": "code",
   "execution_count": 19,
   "id": "selected-ecuador",
   "metadata": {
    "execution": {
     "iopub.execute_input": "2021-04-14T01:00:29.772880Z",
     "iopub.status.busy": "2021-04-14T01:00:29.772031Z",
     "iopub.status.idle": "2021-04-14T01:00:30.050795Z",
     "shell.execute_reply": "2021-04-14T01:00:30.050083Z"
    },
    "papermill": {
     "duration": 0.33046,
     "end_time": "2021-04-14T01:00:30.050960",
     "exception": false,
     "start_time": "2021-04-14T01:00:29.720500",
     "status": "completed"
    },
    "tags": []
   },
   "outputs": [
    {
     "data": {
      "text/plain": [
       "Text(0.5, 1.0, 'Preço do km por ano')"
      ]
     },
     "execution_count": 19,
     "metadata": {},
     "output_type": "execute_result"
    },
    {
     "data": {
      "image/png": "[encoded data removed]",
      "text/plain": [
       "<Figure size 1440x576 with 1 Axes>"
      ]
     },
     "metadata": {},
     "output_type": "display_data"
    }
   ],
   "source": [
    "years = train_data['year'].unique()\n",
    "means = []\n",
    "for year in years:\n",
    "    means.append(train_data.loc[train_data['year'] == year]['fare_by_km'].mean())\n",
    "means\n",
    "\n",
    "plt.figure(figsize=(20,8))\n",
    "sns.set(font_scale=1)\n",
    "ax = sns.barplot(x=years, y=means, data=train_data)\n",
    "ax.set_xlabel('Ano')\n",
    "ax.set_ylabel('Preço do km')\n",
    "ax.set_title('Preço do km por ano')"
   ]
  },
  {
   "cell_type": "markdown",
   "id": "generous-benefit",
   "metadata": {
    "papermill": {
     "duration": 0.043785,
     "end_time": "2021-04-14T01:00:30.140971",
     "exception": false,
     "start_time": "2021-04-14T01:00:30.097186",
     "status": "completed"
    },
    "tags": []
   },
   "source": [
    "### Média do valor por km para cada tipo de dia\n",
    "Como podemos ver no gráfico abaixo, em média, o preço por km nos finais de semana foi um pouco menor que o preço durante os dias de semana."
   ]
  },
  {
   "cell_type": "code",
   "execution_count": 20,
   "id": "arabic-class",
   "metadata": {
    "execution": {
     "iopub.execute_input": "2021-04-14T01:00:30.242806Z",
     "iopub.status.busy": "2021-04-14T01:00:30.238686Z",
     "iopub.status.idle": "2021-04-14T01:00:30.434219Z",
     "shell.execute_reply": "2021-04-14T01:00:30.433576Z"
    },
    "papermill": {
     "duration": 0.248797,
     "end_time": "2021-04-14T01:00:30.434364",
     "exception": false,
     "start_time": "2021-04-14T01:00:30.185567",
     "status": "completed"
    },
    "tags": []
   },
   "outputs": [
    {
     "data": {
      "text/plain": [
       "Text(0.5, 1.0, 'Preço do km por dia da semana')"
      ]
     },
     "execution_count": 20,
     "metadata": {},
     "output_type": "execute_result"
    },
    {
     "data": {
      "image/png": "[encoded data removed]",
      "text/plain": [
       "<Figure size 1080x576 with 1 Axes>"
      ]
     },
     "metadata": {},
     "output_type": "display_data"
    }
   ],
   "source": [
    "weekdays = train_data['weekday'].unique()\n",
    "means = []\n",
    "for weekday in weekdays:\n",
    "    means.append(train_data.loc[train_data['weekday'] == weekday]['fare_by_km'].mean())\n",
    "means\n",
    "\n",
    "plt.figure(figsize=(15,8))\n",
    "ax = sns.barplot(x=weekdays, y=means, data=train_data)\n",
    "ax.set_xlabel('Dia da semana')\n",
    "ax.set_ylabel('Preço do km')\n",
    "ax.set_title('Preço do km por dia da semana')"
   ]
  },
  {
   "cell_type": "markdown",
   "id": "employed-status",
   "metadata": {
    "papermill": {
     "duration": 0.045383,
     "end_time": "2021-04-14T01:00:30.525789",
     "exception": false,
     "start_time": "2021-04-14T01:00:30.480406",
     "status": "completed"
    },
    "tags": []
   },
   "source": [
    "### Média do valor por km para cada quantidade de passageiros\n",
    "\n",
    "Pelo gráfico abaixo podemos ver que a quantidade de passageiros não influencia tanto no valor do km."
   ]
  },
  {
   "cell_type": "code",
   "execution_count": 21,
   "id": "norman-andrew",
   "metadata": {
    "execution": {
     "iopub.execute_input": "2021-04-14T01:00:30.624228Z",
     "iopub.status.busy": "2021-04-14T01:00:30.623515Z",
     "iopub.status.idle": "2021-04-14T01:00:30.869052Z",
     "shell.execute_reply": "2021-04-14T01:00:30.868337Z"
    },
    "papermill": {
     "duration": 0.298121,
     "end_time": "2021-04-14T01:00:30.869209",
     "exception": false,
     "start_time": "2021-04-14T01:00:30.571088",
     "status": "completed"
    },
    "tags": []
   },
   "outputs": [
    {
     "data": {
      "text/plain": [
       "Text(0.5, 1.0, 'Preço do km por quantidade de passageiro')"
      ]
     },
     "execution_count": 21,
     "metadata": {},
     "output_type": "execute_result"
    },
    {
     "data": {
      "image/png": "[encoded data removed]",
      "text/plain": [
       "<Figure size 1080x576 with 1 Axes>"
      ]
     },
     "metadata": {},
     "output_type": "display_data"
    }
   ],
   "source": [
    "passangers = train_data['passenger_count'].unique()\n",
    "means = []\n",
    "for passanger in passangers:\n",
    "    means.append(train_data.loc[train_data['passenger_count'] == passanger]['fare_by_km'].mean())\n",
    "means\n",
    "\n",
    "plt.figure(figsize=(15,8))\n",
    "ax = sns.barplot(x=passangers, y=means, data=train_data)\n",
    "ax.set_xlabel('Quantidade de passageiros')\n",
    "ax.set_ylabel('Preço do km')\n",
    "ax.set_title('Preço do km por quantidade de passageiro')"
   ]
  },
  {
   "cell_type": "markdown",
   "id": "listed-display",
   "metadata": {
    "papermill": {
     "duration": 0.048638,
     "end_time": "2021-04-14T01:00:30.964932",
     "exception": false,
     "start_time": "2021-04-14T01:00:30.916294",
     "status": "completed"
    },
    "tags": []
   },
   "source": [
    "##  Predição do valor da corrida\n",
    "\n",
    "Para predizer o valor da corrida, utilizamos três métodos de regreção para comparar a eficácia de cada um deles. Para comparação, utilizamos a métrica RMSE (root mean squared error), que é a medida que calcula \"a raiz quadrática média\" dos erros entre valores observados (reais) e predições (hipóteses). \n",
    "\n",
    "Podemos concluir que [...]\n",
    "\n",
    "| Modelo | Regressão Linear | Random Forest | KNN    |\n",
    "|--------|------------------|---------------|--------|\n",
    "| RMSE   | 4.4181           | 1.0926        | 1.0926 |\n",
    "\n"
   ]
  },
  {
   "cell_type": "code",
   "execution_count": 22,
   "id": "logical-medium",
   "metadata": {
    "execution": {
     "iopub.execute_input": "2021-04-14T01:00:31.075671Z",
     "iopub.status.busy": "2021-04-14T01:00:31.071984Z",
     "iopub.status.idle": "2021-04-14T01:00:31.095647Z",
     "shell.execute_reply": "2021-04-14T01:00:31.095024Z"
    },
    "papermill": {
     "duration": 0.083562,
     "end_time": "2021-04-14T01:00:31.095784",
     "exception": false,
     "start_time": "2021-04-14T01:00:31.012222",
     "status": "completed"
    },
    "tags": []
   },
   "outputs": [
    {
     "data": {
      "text/html": [
       "<div>\n",
       "<style scoped>\n",
       "    .dataframe tbody tr th:only-of-type {\n",
       "        vertical-align: middle;\n",
       "    }\n",
       "\n",
       "    .dataframe tbody tr th {\n",
       "        vertical-align: top;\n",
       "    }\n",
       "\n",
       "    .dataframe thead th {\n",
       "        text-align: right;\n",
       "    }\n",
       "</style>\n",
       "<table border=\"1\" class=\"dataframe\">\n",
       "  <thead>\n",
       "    <tr style=\"text-align: right;\">\n",
       "      <th></th>\n",
       "      <th>fare_amount</th>\n",
       "      <th>passenger_count</th>\n",
       "      <th>year</th>\n",
       "      <th>km_dist</th>\n",
       "      <th>time_of_day_afternoon</th>\n",
       "      <th>time_of_day_early_morning</th>\n",
       "      <th>time_of_day_morning</th>\n",
       "      <th>time_of_day_night</th>\n",
       "      <th>weekday_weekend</th>\n",
       "      <th>weekday_workday</th>\n",
       "    </tr>\n",
       "  </thead>\n",
       "  <tbody>\n",
       "    <tr>\n",
       "      <th>0</th>\n",
       "      <td>4.5</td>\n",
       "      <td>1</td>\n",
       "      <td>2009</td>\n",
       "      <td>1.030117</td>\n",
       "      <td>1</td>\n",
       "      <td>0</td>\n",
       "      <td>0</td>\n",
       "      <td>0</td>\n",
       "      <td>0</td>\n",
       "      <td>1</td>\n",
       "    </tr>\n",
       "    <tr>\n",
       "      <th>1</th>\n",
       "      <td>16.9</td>\n",
       "      <td>1</td>\n",
       "      <td>2010</td>\n",
       "      <td>8.444828</td>\n",
       "      <td>1</td>\n",
       "      <td>0</td>\n",
       "      <td>0</td>\n",
       "      <td>0</td>\n",
       "      <td>0</td>\n",
       "      <td>1</td>\n",
       "    </tr>\n",
       "    <tr>\n",
       "      <th>2</th>\n",
       "      <td>5.7</td>\n",
       "      <td>2</td>\n",
       "      <td>2011</td>\n",
       "      <td>1.388653</td>\n",
       "      <td>0</td>\n",
       "      <td>1</td>\n",
       "      <td>0</td>\n",
       "      <td>0</td>\n",
       "      <td>0</td>\n",
       "      <td>1</td>\n",
       "    </tr>\n",
       "    <tr>\n",
       "      <th>3</th>\n",
       "      <td>7.7</td>\n",
       "      <td>1</td>\n",
       "      <td>2012</td>\n",
       "      <td>2.797513</td>\n",
       "      <td>0</td>\n",
       "      <td>1</td>\n",
       "      <td>0</td>\n",
       "      <td>0</td>\n",
       "      <td>1</td>\n",
       "      <td>0</td>\n",
       "    </tr>\n",
       "    <tr>\n",
       "      <th>4</th>\n",
       "      <td>5.3</td>\n",
       "      <td>1</td>\n",
       "      <td>2010</td>\n",
       "      <td>1.997902</td>\n",
       "      <td>0</td>\n",
       "      <td>0</td>\n",
       "      <td>1</td>\n",
       "      <td>0</td>\n",
       "      <td>0</td>\n",
       "      <td>1</td>\n",
       "    </tr>\n",
       "  </tbody>\n",
       "</table>\n",
       "</div>"
      ],
      "text/plain": [
       "   fare_amount  passenger_count  year   km_dist  time_of_day_afternoon  \\\n",
       "0          4.5                1  2009  1.030117                      1   \n",
       "1         16.9                1  2010  8.444828                      1   \n",
       "2          5.7                2  2011  1.388653                      0   \n",
       "3          7.7                1  2012  2.797513                      0   \n",
       "4          5.3                1  2010  1.997902                      0   \n",
       "\n",
       "   time_of_day_early_morning  time_of_day_morning  time_of_day_night  \\\n",
       "0                          0                    0                  0   \n",
       "1                          0                    0                  0   \n",
       "2                          1                    0                  0   \n",
       "3                          1                    0                  0   \n",
       "4                          0                    1                  0   \n",
       "\n",
       "   weekday_weekend  weekday_workday  \n",
       "0                0                1  \n",
       "1                0                1  \n",
       "2                0                1  \n",
       "3                1                0  \n",
       "4                0                1  "
      ]
     },
     "execution_count": 22,
     "metadata": {},
     "output_type": "execute_result"
    }
   ],
   "source": [
    "col =  ['key', 'pickup_datetime', 'pickup_longitude', 'pickup_latitude', 'dropoff_longitude', 'dropoff_latitude', 'fare_by_km',\n",
    "       'manhattan_dist']\n",
    "\n",
    "train_data = train_data.drop(col, axis=1)\n",
    "train_data = pd.get_dummies(train_data)\n",
    "train_data.head()"
   ]
  },
  {
   "cell_type": "code",
   "execution_count": 23,
   "id": "alone-gibraltar",
   "metadata": {
    "execution": {
     "iopub.execute_input": "2021-04-14T01:00:31.198704Z",
     "iopub.status.busy": "2021-04-14T01:00:31.198054Z",
     "iopub.status.idle": "2021-04-14T01:00:31.222764Z",
     "shell.execute_reply": "2021-04-14T01:00:31.222158Z"
    },
    "papermill": {
     "duration": 0.078754,
     "end_time": "2021-04-14T01:00:31.222946",
     "exception": false,
     "start_time": "2021-04-14T01:00:31.144192",
     "status": "completed"
    },
    "tags": []
   },
   "outputs": [
    {
     "data": {
      "text/html": [
       "<div>\n",
       "<style scoped>\n",
       "    .dataframe tbody tr th:only-of-type {\n",
       "        vertical-align: middle;\n",
       "    }\n",
       "\n",
       "    .dataframe tbody tr th {\n",
       "        vertical-align: top;\n",
       "    }\n",
       "\n",
       "    .dataframe thead th {\n",
       "        text-align: right;\n",
       "    }\n",
       "</style>\n",
       "<table border=\"1\" class=\"dataframe\">\n",
       "  <thead>\n",
       "    <tr style=\"text-align: right;\">\n",
       "      <th></th>\n",
       "      <th>passenger_count</th>\n",
       "      <th>year</th>\n",
       "      <th>km_dist</th>\n",
       "      <th>time_of_day_afternoon</th>\n",
       "      <th>time_of_day_early_morning</th>\n",
       "      <th>time_of_day_morning</th>\n",
       "      <th>time_of_day_night</th>\n",
       "      <th>weekday_weekend</th>\n",
       "      <th>weekday_workday</th>\n",
       "    </tr>\n",
       "  </thead>\n",
       "  <tbody>\n",
       "    <tr>\n",
       "      <th>0</th>\n",
       "      <td>1</td>\n",
       "      <td>2015</td>\n",
       "      <td>2.321801</td>\n",
       "      <td>1</td>\n",
       "      <td>0</td>\n",
       "      <td>0</td>\n",
       "      <td>0</td>\n",
       "      <td>0</td>\n",
       "      <td>1</td>\n",
       "    </tr>\n",
       "    <tr>\n",
       "      <th>1</th>\n",
       "      <td>1</td>\n",
       "      <td>2015</td>\n",
       "      <td>2.423830</td>\n",
       "      <td>1</td>\n",
       "      <td>0</td>\n",
       "      <td>0</td>\n",
       "      <td>0</td>\n",
       "      <td>0</td>\n",
       "      <td>1</td>\n",
       "    </tr>\n",
       "    <tr>\n",
       "      <th>2</th>\n",
       "      <td>1</td>\n",
       "      <td>2011</td>\n",
       "      <td>0.618239</td>\n",
       "      <td>0</td>\n",
       "      <td>0</td>\n",
       "      <td>1</td>\n",
       "      <td>0</td>\n",
       "      <td>1</td>\n",
       "      <td>0</td>\n",
       "    </tr>\n",
       "    <tr>\n",
       "      <th>3</th>\n",
       "      <td>1</td>\n",
       "      <td>2012</td>\n",
       "      <td>1.959801</td>\n",
       "      <td>0</td>\n",
       "      <td>0</td>\n",
       "      <td>0</td>\n",
       "      <td>1</td>\n",
       "      <td>1</td>\n",
       "      <td>0</td>\n",
       "    </tr>\n",
       "    <tr>\n",
       "      <th>4</th>\n",
       "      <td>1</td>\n",
       "      <td>2012</td>\n",
       "      <td>5.383919</td>\n",
       "      <td>0</td>\n",
       "      <td>0</td>\n",
       "      <td>0</td>\n",
       "      <td>1</td>\n",
       "      <td>1</td>\n",
       "      <td>0</td>\n",
       "    </tr>\n",
       "  </tbody>\n",
       "</table>\n",
       "</div>"
      ],
      "text/plain": [
       "   passenger_count  year   km_dist  time_of_day_afternoon  \\\n",
       "0                1  2015  2.321801                      1   \n",
       "1                1  2015  2.423830                      1   \n",
       "2                1  2011  0.618239                      0   \n",
       "3                1  2012  1.959801                      0   \n",
       "4                1  2012  5.383919                      0   \n",
       "\n",
       "   time_of_day_early_morning  time_of_day_morning  time_of_day_night  \\\n",
       "0                          0                    0                  0   \n",
       "1                          0                    0                  0   \n",
       "2                          0                    1                  0   \n",
       "3                          0                    0                  1   \n",
       "4                          0                    0                  1   \n",
       "\n",
       "   weekday_weekend  weekday_workday  \n",
       "0                0                1  \n",
       "1                0                1  \n",
       "2                1                0  \n",
       "3                1                0  \n",
       "4                1                0  "
      ]
     },
     "execution_count": 23,
     "metadata": {},
     "output_type": "execute_result"
    }
   ],
   "source": [
    "teste_dados = test_data.copy()\n",
    "\n",
    "col =  ['key', 'pickup_datetime', 'pickup_longitude', 'pickup_latitude', 'dropoff_longitude', 'dropoff_latitude',\n",
    "       'manhattan_dist']\n",
    "\n",
    "test_data = test_data.drop(col, axis=1)\n",
    "test_data = pd.get_dummies(test_data)\n",
    "test_data.head()"
   ]
  },
  {
   "attachments": {
    "817d5da1-6bb3-4cd0-85d5-1cede31fcb4c.png": {
     "image/png": "[encoded data removed]"
    }
   },
   "cell_type": "markdown",
   "id": "hired-resistance",
   "metadata": {
    "papermill": {
     "duration": 0.053433,
     "end_time": "2021-04-14T01:00:31.330532",
     "exception": false,
     "start_time": "2021-04-14T01:00:31.277099",
     "status": "completed"
    },
    "tags": []
   },
   "source": [
    "## **Normalização dos dados**\n",
    "\n",
    "\n",
    "![image.png](attachment:817d5da1-6bb3-4cd0-85d5-1cede31fcb4c.png)"
   ]
  },
  {
   "cell_type": "markdown",
   "id": "mighty-taylor",
   "metadata": {
    "papermill": {
     "duration": 0.051325,
     "end_time": "2021-04-14T01:00:31.435553",
     "exception": false,
     "start_time": "2021-04-14T01:00:31.384228",
     "status": "completed"
    },
    "tags": []
   },
   "source": [
    "Normalização dos dados de traino"
   ]
  },
  {
   "cell_type": "code",
   "execution_count": 24,
   "id": "breeding-intermediate",
   "metadata": {
    "execution": {
     "iopub.execute_input": "2021-04-14T01:00:31.555246Z",
     "iopub.status.busy": "2021-04-14T01:00:31.554487Z",
     "iopub.status.idle": "2021-04-14T01:00:31.557806Z",
     "shell.execute_reply": "2021-04-14T01:00:31.557279Z"
    },
    "papermill": {
     "duration": 0.074538,
     "end_time": "2021-04-14T01:00:31.557968",
     "exception": false,
     "start_time": "2021-04-14T01:00:31.483430",
     "status": "completed"
    },
    "tags": []
   },
   "outputs": [],
   "source": [
    "def normalize(value):\n",
    "    return ((value - min(value))/ (max(value) - min(value)))\n",
    "\n",
    "test_data['passenger_count'] = normalize(test_data['passenger_count'])\n",
    "test_data['year'] = normalize(test_data['year'])\n",
    "test_data['km_dist'] = normalize(test_data['km_dist'])\n",
    "#train_data['fare_by_km'] = normalize(train_data['fare_by_km'])"
   ]
  },
  {
   "cell_type": "code",
   "execution_count": 25,
   "id": "discrete-catholic",
   "metadata": {
    "execution": {
     "iopub.execute_input": "2021-04-14T01:00:31.670612Z",
     "iopub.status.busy": "2021-04-14T01:00:31.669546Z",
     "iopub.status.idle": "2021-04-14T01:00:31.674449Z",
     "shell.execute_reply": "2021-04-14T01:00:31.673794Z"
    },
    "papermill": {
     "duration": 0.068319,
     "end_time": "2021-04-14T01:00:31.674607",
     "exception": false,
     "start_time": "2021-04-14T01:00:31.606288",
     "status": "completed"
    },
    "tags": []
   },
   "outputs": [
    {
     "data": {
      "text/html": [
       "<div>\n",
       "<style scoped>\n",
       "    .dataframe tbody tr th:only-of-type {\n",
       "        vertical-align: middle;\n",
       "    }\n",
       "\n",
       "    .dataframe tbody tr th {\n",
       "        vertical-align: top;\n",
       "    }\n",
       "\n",
       "    .dataframe thead th {\n",
       "        text-align: right;\n",
       "    }\n",
       "</style>\n",
       "<table border=\"1\" class=\"dataframe\">\n",
       "  <thead>\n",
       "    <tr style=\"text-align: right;\">\n",
       "      <th></th>\n",
       "      <th>passenger_count</th>\n",
       "      <th>year</th>\n",
       "      <th>km_dist</th>\n",
       "      <th>time_of_day_afternoon</th>\n",
       "      <th>time_of_day_early_morning</th>\n",
       "      <th>time_of_day_morning</th>\n",
       "      <th>time_of_day_night</th>\n",
       "      <th>weekday_weekend</th>\n",
       "      <th>weekday_workday</th>\n",
       "    </tr>\n",
       "  </thead>\n",
       "  <tbody>\n",
       "    <tr>\n",
       "      <th>0</th>\n",
       "      <td>0.0</td>\n",
       "      <td>1.000000</td>\n",
       "      <td>0.023234</td>\n",
       "      <td>1</td>\n",
       "      <td>0</td>\n",
       "      <td>0</td>\n",
       "      <td>0</td>\n",
       "      <td>0</td>\n",
       "      <td>1</td>\n",
       "    </tr>\n",
       "    <tr>\n",
       "      <th>1</th>\n",
       "      <td>0.0</td>\n",
       "      <td>1.000000</td>\n",
       "      <td>0.024254</td>\n",
       "      <td>1</td>\n",
       "      <td>0</td>\n",
       "      <td>0</td>\n",
       "      <td>0</td>\n",
       "      <td>0</td>\n",
       "      <td>1</td>\n",
       "    </tr>\n",
       "    <tr>\n",
       "      <th>2</th>\n",
       "      <td>0.0</td>\n",
       "      <td>0.333333</td>\n",
       "      <td>0.006187</td>\n",
       "      <td>0</td>\n",
       "      <td>0</td>\n",
       "      <td>1</td>\n",
       "      <td>0</td>\n",
       "      <td>1</td>\n",
       "      <td>0</td>\n",
       "    </tr>\n",
       "    <tr>\n",
       "      <th>3</th>\n",
       "      <td>0.0</td>\n",
       "      <td>0.500000</td>\n",
       "      <td>0.019611</td>\n",
       "      <td>0</td>\n",
       "      <td>0</td>\n",
       "      <td>0</td>\n",
       "      <td>1</td>\n",
       "      <td>1</td>\n",
       "      <td>0</td>\n",
       "    </tr>\n",
       "    <tr>\n",
       "      <th>4</th>\n",
       "      <td>0.0</td>\n",
       "      <td>0.500000</td>\n",
       "      <td>0.053875</td>\n",
       "      <td>0</td>\n",
       "      <td>0</td>\n",
       "      <td>0</td>\n",
       "      <td>1</td>\n",
       "      <td>1</td>\n",
       "      <td>0</td>\n",
       "    </tr>\n",
       "  </tbody>\n",
       "</table>\n",
       "</div>"
      ],
      "text/plain": [
       "   passenger_count      year   km_dist  time_of_day_afternoon  \\\n",
       "0              0.0  1.000000  0.023234                      1   \n",
       "1              0.0  1.000000  0.024254                      1   \n",
       "2              0.0  0.333333  0.006187                      0   \n",
       "3              0.0  0.500000  0.019611                      0   \n",
       "4              0.0  0.500000  0.053875                      0   \n",
       "\n",
       "   time_of_day_early_morning  time_of_day_morning  time_of_day_night  \\\n",
       "0                          0                    0                  0   \n",
       "1                          0                    0                  0   \n",
       "2                          0                    1                  0   \n",
       "3                          0                    0                  1   \n",
       "4                          0                    0                  1   \n",
       "\n",
       "   weekday_weekend  weekday_workday  \n",
       "0                0                1  \n",
       "1                0                1  \n",
       "2                1                0  \n",
       "3                1                0  \n",
       "4                1                0  "
      ]
     },
     "execution_count": 25,
     "metadata": {},
     "output_type": "execute_result"
    }
   ],
   "source": [
    "test_data.head()"
   ]
  },
  {
   "cell_type": "markdown",
   "id": "thermal-share",
   "metadata": {
    "papermill": {
     "duration": 0.049455,
     "end_time": "2021-04-14T01:00:31.773091",
     "exception": false,
     "start_time": "2021-04-14T01:00:31.723636",
     "status": "completed"
    },
    "tags": []
   },
   "source": [
    "Normalização dos dados de treino"
   ]
  },
  {
   "cell_type": "code",
   "execution_count": 26,
   "id": "civic-tradition",
   "metadata": {
    "execution": {
     "iopub.execute_input": "2021-04-14T01:00:31.890265Z",
     "iopub.status.busy": "2021-04-14T01:00:31.889281Z",
     "iopub.status.idle": "2021-04-14T01:00:31.916956Z",
     "shell.execute_reply": "2021-04-14T01:00:31.916292Z"
    },
    "papermill": {
     "duration": 0.094331,
     "end_time": "2021-04-14T01:00:31.917119",
     "exception": false,
     "start_time": "2021-04-14T01:00:31.822788",
     "status": "completed"
    },
    "tags": []
   },
   "outputs": [],
   "source": [
    "def normalize(value):\n",
    "    return ((value - min(value))/ (max(value) - min(value)))\n",
    "\n",
    "train_data['passenger_count'] = normalize(train_data['passenger_count'])\n",
    "train_data['year'] = normalize(train_data['year'])\n",
    "train_data['km_dist'] = normalize(train_data['km_dist'])"
   ]
  },
  {
   "cell_type": "code",
   "execution_count": 27,
   "id": "burning-logging",
   "metadata": {
    "execution": {
     "iopub.execute_input": "2021-04-14T01:00:32.022973Z",
     "iopub.status.busy": "2021-04-14T01:00:32.022284Z",
     "iopub.status.idle": "2021-04-14T01:00:32.031931Z",
     "shell.execute_reply": "2021-04-14T01:00:32.031180Z"
    },
    "papermill": {
     "duration": 0.065855,
     "end_time": "2021-04-14T01:00:32.032148",
     "exception": false,
     "start_time": "2021-04-14T01:00:31.966293",
     "status": "completed"
    },
    "tags": []
   },
   "outputs": [],
   "source": [
    "from sklearn.model_selection import train_test_split\n",
    "X=train_data.drop(['fare_amount'],axis=1)\n",
    "y=train_data['fare_amount']\n",
    "# separando 25% dos dados pra validação\n",
    "X_train, X_test, y_train, y_test = train_test_split(X,y, test_size=0.25,random_state=123)"
   ]
  },
  {
   "cell_type": "markdown",
   "id": "piano-content",
   "metadata": {
    "papermill": {
     "duration": 0.049055,
     "end_time": "2021-04-14T01:00:32.132046",
     "exception": false,
     "start_time": "2021-04-14T01:00:32.082991",
     "status": "completed"
    },
    "tags": []
   },
   "source": [
    "## Modelos"
   ]
  },
  {
   "cell_type": "code",
   "execution_count": 28,
   "id": "grave-oxygen",
   "metadata": {
    "execution": {
     "iopub.execute_input": "2021-04-14T01:00:32.348939Z",
     "iopub.status.busy": "2021-04-14T01:00:32.348160Z",
     "iopub.status.idle": "2021-04-14T01:00:32.390507Z",
     "shell.execute_reply": "2021-04-14T01:00:32.391700Z"
    },
    "papermill": {
     "duration": 0.209083,
     "end_time": "2021-04-14T01:00:32.392023",
     "exception": false,
     "start_time": "2021-04-14T01:00:32.182940",
     "status": "completed"
    },
    "tags": []
   },
   "outputs": [
    {
     "name": "stdout",
     "output_type": "stream",
     "text": [
      "RMSE: 5.8312\n",
      "       fare_amount  predicted_fare_amount\n",
      "12289          6.1                   5.93\n",
      "10319          7.7                   7.09\n",
      "18337         13.0                  13.15\n",
      "24035         10.0                   9.33\n",
      "17944          7.7                   9.21\n",
      "...            ...                    ...\n",
      "16083         10.5                  13.79\n",
      "5272           5.7                   8.20\n",
      "10842         19.5                  17.50\n",
      "1051          36.1                  33.89\n",
      "4431           7.3                   7.36\n",
      "\n",
      "[4993 rows x 2 columns]\n"
     ]
    }
   ],
   "source": [
    "# Regressão Linear\n",
    "\n",
    "lm = LinearRegression()\n",
    "lm.fit(X_train,y_train)\n",
    "lm_pred = np.round(lm.predict(X_test),2)\n",
    "lm_rmse = np.sqrt(mean_squared_error(lm_pred, y_test))\n",
    "print(\"RMSE:\", np.round(lm_rmse, 4))\n",
    "\n",
    "result = pd.DataFrame({ 'fare_amount': y_test, 'predicted_fare_amount': lm_pred})\n",
    "print(result)"
   ]
  },
  {
   "cell_type": "code",
   "execution_count": 29,
   "id": "possible-painting",
   "metadata": {
    "execution": {
     "iopub.execute_input": "2021-04-14T01:00:32.581231Z",
     "iopub.status.busy": "2021-04-14T01:00:32.580458Z",
     "iopub.status.idle": "2021-04-14T01:00:34.353656Z",
     "shell.execute_reply": "2021-04-14T01:00:34.352986Z"
    },
    "papermill": {
     "duration": 1.830828,
     "end_time": "2021-04-14T01:00:34.353801",
     "exception": false,
     "start_time": "2021-04-14T01:00:32.522973",
     "status": "completed"
    },
    "tags": []
   },
   "outputs": [
    {
     "name": "stdout",
     "output_type": "stream",
     "text": [
      "RMSE 4.4203\n",
      "       fare_amount  predicted_fare_amount\n",
      "12289          6.1                   5.41\n",
      "10319          7.7                   7.25\n",
      "18337         13.0                  16.55\n",
      "24035         10.0                   8.52\n",
      "17944          7.7                   9.62\n",
      "...            ...                    ...\n",
      "16083         10.5                  16.48\n",
      "5272           5.7                   8.52\n",
      "10842         19.5                  23.38\n",
      "1051          36.1                  35.57\n",
      "4431           7.3                   6.99\n",
      "\n",
      "[4993 rows x 2 columns]\n"
     ]
    }
   ],
   "source": [
    "# Random Forest\n",
    "\n",
    "rf = RandomForestRegressor(n_estimators = 100, random_state = 883,n_jobs=-1)\n",
    "rf.fit(X_train,y_train)\n",
    "rf_pred= np.round(rf.predict(X_test),2)\n",
    "rf_rmse=np.sqrt(mean_squared_error(rf_pred, y_test))\n",
    "print(\"RMSE\", np.round(rf_rmse,4))\n",
    "\n",
    "result = pd.DataFrame({ 'fare_amount': y_test, 'predicted_fare_amount': rf_pred})\n",
    "print(result)"
   ]
  },
  {
   "cell_type": "code",
   "execution_count": 30,
   "id": "nearby-conducting",
   "metadata": {
    "execution": {
     "iopub.execute_input": "2021-04-14T01:00:34.465675Z",
     "iopub.status.busy": "2021-04-14T01:00:34.464625Z",
     "iopub.status.idle": "2021-04-14T01:00:34.719552Z",
     "shell.execute_reply": "2021-04-14T01:00:34.720163Z"
    },
    "papermill": {
     "duration": 0.31628,
     "end_time": "2021-04-14T01:00:34.720361",
     "exception": false,
     "start_time": "2021-04-14T01:00:34.404081",
     "status": "completed"
    },
    "tags": []
   },
   "outputs": [
    {
     "name": "stdout",
     "output_type": "stream",
     "text": [
      "RMSE 4.4203\n",
      "       fare_amount  predicted_fare_amount\n",
      "12289          6.1                   5.41\n",
      "10319          7.7                   7.25\n",
      "18337         13.0                  16.55\n",
      "24035         10.0                   8.52\n",
      "17944          7.7                   9.62\n",
      "...            ...                    ...\n",
      "16083         10.5                  16.48\n",
      "5272           5.7                   8.52\n",
      "10842         19.5                  23.38\n",
      "1051          36.1                  35.57\n",
      "4431           7.3                   6.99\n",
      "\n",
      "[4993 rows x 2 columns]\n"
     ]
    }
   ],
   "source": [
    "# KNN\n",
    "\n",
    "knnR = KNeighborsRegressor()\n",
    "knnR.fit(X_train, y_train)\n",
    "knnR_pred= np.round(rf.predict(X_test),2)\n",
    "knnR_rmse = np.sqrt(mean_squared_error(knnR_pred, y_test))\n",
    "print(\"RMSE\", np.round(knnR_rmse,4))\n",
    "\n",
    "result = pd.DataFrame({ 'fare_amount': y_test, 'predicted_fare_amount': knnR_pred})\n",
    "print(result)"
   ]
  },
  {
   "cell_type": "code",
   "execution_count": 31,
   "id": "fundamental-promise",
   "metadata": {
    "execution": {
     "iopub.execute_input": "2021-04-14T01:00:34.845873Z",
     "iopub.status.busy": "2021-04-14T01:00:34.845002Z",
     "iopub.status.idle": "2021-04-14T01:00:34.849785Z",
     "shell.execute_reply": "2021-04-14T01:00:34.850411Z"
    },
    "papermill": {
     "duration": 0.074844,
     "end_time": "2021-04-14T01:00:34.850585",
     "exception": false,
     "start_time": "2021-04-14T01:00:34.775741",
     "status": "completed"
    },
    "tags": []
   },
   "outputs": [
    {
     "data": {
      "text/html": [
       "<div>\n",
       "<style scoped>\n",
       "    .dataframe tbody tr th:only-of-type {\n",
       "        vertical-align: middle;\n",
       "    }\n",
       "\n",
       "    .dataframe tbody tr th {\n",
       "        vertical-align: top;\n",
       "    }\n",
       "\n",
       "    .dataframe thead th {\n",
       "        text-align: right;\n",
       "    }\n",
       "</style>\n",
       "<table border=\"1\" class=\"dataframe\">\n",
       "  <thead>\n",
       "    <tr style=\"text-align: right;\">\n",
       "      <th></th>\n",
       "      <th>key</th>\n",
       "      <th>pickup_datetime</th>\n",
       "      <th>pickup_longitude</th>\n",
       "      <th>pickup_latitude</th>\n",
       "      <th>dropoff_longitude</th>\n",
       "      <th>dropoff_latitude</th>\n",
       "      <th>passenger_count</th>\n",
       "      <th>time_of_day</th>\n",
       "      <th>weekday</th>\n",
       "      <th>year</th>\n",
       "      <th>manhattan_dist</th>\n",
       "      <th>km_dist</th>\n",
       "    </tr>\n",
       "  </thead>\n",
       "  <tbody>\n",
       "    <tr>\n",
       "      <th>0</th>\n",
       "      <td>2015-01-27 13:08:24.0000002</td>\n",
       "      <td>2015-01-27 13:08:24 UTC</td>\n",
       "      <td>-73.973320</td>\n",
       "      <td>40.763805</td>\n",
       "      <td>-73.981430</td>\n",
       "      <td>40.743835</td>\n",
       "      <td>1</td>\n",
       "      <td>afternoon</td>\n",
       "      <td>workday</td>\n",
       "      <td>2015</td>\n",
       "      <td>0.028080</td>\n",
       "      <td>2.321801</td>\n",
       "    </tr>\n",
       "    <tr>\n",
       "      <th>1</th>\n",
       "      <td>2015-01-27 13:08:24.0000003</td>\n",
       "      <td>2015-01-27 13:08:24 UTC</td>\n",
       "      <td>-73.986862</td>\n",
       "      <td>40.719383</td>\n",
       "      <td>-73.998886</td>\n",
       "      <td>40.739201</td>\n",
       "      <td>1</td>\n",
       "      <td>afternoon</td>\n",
       "      <td>workday</td>\n",
       "      <td>2015</td>\n",
       "      <td>0.031841</td>\n",
       "      <td>2.423830</td>\n",
       "    </tr>\n",
       "    <tr>\n",
       "      <th>2</th>\n",
       "      <td>2011-10-08 11:53:44.0000002</td>\n",
       "      <td>2011-10-08 11:53:44 UTC</td>\n",
       "      <td>-73.982524</td>\n",
       "      <td>40.751260</td>\n",
       "      <td>-73.979654</td>\n",
       "      <td>40.746139</td>\n",
       "      <td>1</td>\n",
       "      <td>morning</td>\n",
       "      <td>weekend</td>\n",
       "      <td>2011</td>\n",
       "      <td>0.007991</td>\n",
       "      <td>0.618239</td>\n",
       "    </tr>\n",
       "    <tr>\n",
       "      <th>3</th>\n",
       "      <td>2012-12-01 21:12:12.0000002</td>\n",
       "      <td>2012-12-01 21:12:12 UTC</td>\n",
       "      <td>-73.981160</td>\n",
       "      <td>40.767807</td>\n",
       "      <td>-73.990448</td>\n",
       "      <td>40.751635</td>\n",
       "      <td>1</td>\n",
       "      <td>night</td>\n",
       "      <td>weekend</td>\n",
       "      <td>2012</td>\n",
       "      <td>0.025460</td>\n",
       "      <td>1.959801</td>\n",
       "    </tr>\n",
       "    <tr>\n",
       "      <th>4</th>\n",
       "      <td>2012-12-01 21:12:12.0000003</td>\n",
       "      <td>2012-12-01 21:12:12 UTC</td>\n",
       "      <td>-73.966046</td>\n",
       "      <td>40.789775</td>\n",
       "      <td>-73.988565</td>\n",
       "      <td>40.744427</td>\n",
       "      <td>1</td>\n",
       "      <td>night</td>\n",
       "      <td>weekend</td>\n",
       "      <td>2012</td>\n",
       "      <td>0.067867</td>\n",
       "      <td>5.383919</td>\n",
       "    </tr>\n",
       "  </tbody>\n",
       "</table>\n",
       "</div>"
      ],
      "text/plain": [
       "                           key          pickup_datetime  pickup_longitude  \\\n",
       "0  2015-01-27 13:08:24.0000002  2015-01-27 13:08:24 UTC        -73.973320   \n",
       "1  2015-01-27 13:08:24.0000003  2015-01-27 13:08:24 UTC        -73.986862   \n",
       "2  2011-10-08 11:53:44.0000002  2011-10-08 11:53:44 UTC        -73.982524   \n",
       "3  2012-12-01 21:12:12.0000002  2012-12-01 21:12:12 UTC        -73.981160   \n",
       "4  2012-12-01 21:12:12.0000003  2012-12-01 21:12:12 UTC        -73.966046   \n",
       "\n",
       "   pickup_latitude  dropoff_longitude  dropoff_latitude  passenger_count  \\\n",
       "0        40.763805         -73.981430         40.743835                1   \n",
       "1        40.719383         -73.998886         40.739201                1   \n",
       "2        40.751260         -73.979654         40.746139                1   \n",
       "3        40.767807         -73.990448         40.751635                1   \n",
       "4        40.789775         -73.988565         40.744427                1   \n",
       "\n",
       "  time_of_day  weekday  year  manhattan_dist   km_dist  \n",
       "0   afternoon  workday  2015        0.028080  2.321801  \n",
       "1   afternoon  workday  2015        0.031841  2.423830  \n",
       "2     morning  weekend  2011        0.007991  0.618239  \n",
       "3       night  weekend  2012        0.025460  1.959801  \n",
       "4       night  weekend  2012        0.067867  5.383919  "
      ]
     },
     "execution_count": 31,
     "metadata": {},
     "output_type": "execute_result"
    }
   ],
   "source": [
    "teste_dados.head()"
   ]
  },
  {
   "cell_type": "code",
   "execution_count": 32,
   "id": "composed-steam",
   "metadata": {
    "execution": {
     "iopub.execute_input": "2021-04-14T01:00:34.962053Z",
     "iopub.status.busy": "2021-04-14T01:00:34.960994Z",
     "iopub.status.idle": "2021-04-14T01:00:34.966551Z",
     "shell.execute_reply": "2021-04-14T01:00:34.965883Z"
    },
    "papermill": {
     "duration": 0.062569,
     "end_time": "2021-04-14T01:00:34.966709",
     "exception": false,
     "start_time": "2021-04-14T01:00:34.904140",
     "status": "completed"
    },
    "tags": []
   },
   "outputs": [
    {
     "data": {
      "text/plain": [
       "(9914, 9)"
      ]
     },
     "execution_count": 32,
     "metadata": {},
     "output_type": "execute_result"
    }
   ],
   "source": [
    "test_data.shape"
   ]
  },
  {
   "cell_type": "code",
   "execution_count": 33,
   "id": "welsh-scotland",
   "metadata": {
    "execution": {
     "iopub.execute_input": "2021-04-14T01:00:35.082793Z",
     "iopub.status.busy": "2021-04-14T01:00:35.077081Z",
     "iopub.status.idle": "2021-04-14T01:00:35.199183Z",
     "shell.execute_reply": "2021-04-14T01:00:35.198543Z"
    },
    "papermill": {
     "duration": 0.180141,
     "end_time": "2021-04-14T01:00:35.199342",
     "exception": false,
     "start_time": "2021-04-14T01:00:35.019201",
     "status": "completed"
    },
    "tags": []
   },
   "outputs": [
    {
     "data": {
      "text/html": [
       "<div>\n",
       "<style scoped>\n",
       "    .dataframe tbody tr th:only-of-type {\n",
       "        vertical-align: middle;\n",
       "    }\n",
       "\n",
       "    .dataframe tbody tr th {\n",
       "        vertical-align: top;\n",
       "    }\n",
       "\n",
       "    .dataframe thead th {\n",
       "        text-align: right;\n",
       "    }\n",
       "</style>\n",
       "<table border=\"1\" class=\"dataframe\">\n",
       "  <thead>\n",
       "    <tr style=\"text-align: right;\">\n",
       "      <th></th>\n",
       "      <th>key</th>\n",
       "      <th>fare_amount</th>\n",
       "    </tr>\n",
       "  </thead>\n",
       "  <tbody>\n",
       "    <tr>\n",
       "      <th>0</th>\n",
       "      <td>2015-01-27 13:08:24.0000002</td>\n",
       "      <td>10.78</td>\n",
       "    </tr>\n",
       "    <tr>\n",
       "      <th>1</th>\n",
       "      <td>2015-01-27 13:08:24.0000003</td>\n",
       "      <td>14.74</td>\n",
       "    </tr>\n",
       "    <tr>\n",
       "      <th>2</th>\n",
       "      <td>2011-10-08 11:53:44.0000002</td>\n",
       "      <td>7.20</td>\n",
       "    </tr>\n",
       "    <tr>\n",
       "      <th>3</th>\n",
       "      <td>2012-12-01 21:12:12.0000002</td>\n",
       "      <td>9.52</td>\n",
       "    </tr>\n",
       "    <tr>\n",
       "      <th>4</th>\n",
       "      <td>2012-12-01 21:12:12.0000003</td>\n",
       "      <td>19.38</td>\n",
       "    </tr>\n",
       "  </tbody>\n",
       "</table>\n",
       "</div>"
      ],
      "text/plain": [
       "                           key  fare_amount\n",
       "0  2015-01-27 13:08:24.0000002        10.78\n",
       "1  2015-01-27 13:08:24.0000003        14.74\n",
       "2  2011-10-08 11:53:44.0000002         7.20\n",
       "3  2012-12-01 21:12:12.0000002         9.52\n",
       "4  2012-12-01 21:12:12.0000003        19.38"
      ]
     },
     "execution_count": 33,
     "metadata": {},
     "output_type": "execute_result"
    }
   ],
   "source": [
    "submission = pd.DataFrame()\n",
    "submission['key'] = teste_dados['key']\n",
    "submission['fare_amount'] = np.round(rf.predict(test_data),2)\n",
    "\n",
    "submission.head()"
   ]
  },
  {
   "cell_type": "code",
   "execution_count": 34,
   "id": "confirmed-alias",
   "metadata": {
    "execution": {
     "iopub.execute_input": "2021-04-14T01:00:35.309972Z",
     "iopub.status.busy": "2021-04-14T01:00:35.308939Z",
     "iopub.status.idle": "2021-04-14T01:00:35.351819Z",
     "shell.execute_reply": "2021-04-14T01:00:35.351245Z"
    },
    "papermill": {
     "duration": 0.100222,
     "end_time": "2021-04-14T01:00:35.351999",
     "exception": false,
     "start_time": "2021-04-14T01:00:35.251777",
     "status": "completed"
    },
    "tags": []
   },
   "outputs": [],
   "source": [
    "submission.to_csv('sample_submission.csv', index=False)"
   ]
  }
 ],
 "metadata": {
  "kernelspec": {
   "display_name": "Python 3",
   "language": "python",
   "name": "python3"
  },
  "language_info": {
   "codemirror_mode": {
    "name": "ipython",
    "version": 3
   },
   "file_extension": ".py",
   "mimetype": "text/x-python",
   "name": "python",
   "nbconvert_exporter": "python",
   "pygments_lexer": "ipython3",
   "version": "3.7.9"
  },
  "papermill": {
   "default_parameters": {},
   "duration": 23.97547,
   "end_time": "2021-04-14T01:00:37.084822",
   "environment_variables": {},
   "exception": null,
   "input_path": "__notebook__.ipynb",
   "output_path": "__notebook__.ipynb",
   "parameters": {},
   "start_time": "2021-04-14T01:00:13.109352",
   "version": "2.3.2"
  }
 },
 "nbformat": 4,
 "nbformat_minor": 5
}
